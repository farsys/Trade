{
 "cells": [
  {
   "cell_type": "code",
   "execution_count": null,
   "metadata": {},
   "outputs": [],
   "source": [
    "import matplotlib\n",
    "import matplotlib.ticker as mticker\n",
    "import matplotlib.dates as mdates\n",
    "import matplotlib.pyplot as plt\n",
    "import matplotlib as mpl\n",
    "mpl.style.use('seaborn')\n",
    "import numpy as np\n",
    "import pandas as pd\n",
    "\n",
    "from oandapyV20 import API\n",
    "from oandapyV20 import V20Error\n",
    "import oandapyV20.endpoints.accounts as accounts\n",
    "import oandapyV20.endpoints.instruments as instruments\n",
    "import csv\n",
    "import json\n",
    "import ta \n",
    "from ta.utils import dropna\n",
    "from ta.volatility import BollingerBands as BB\n",
    "from ta.momentum import RSIIndicator as RSI\n",
    "from ta.momentum import StochRSIIndicator as SRSI\n",
    "from ta.momentum import KAMAIndicator as KAMA\n",
    "from ta.trend import IchimokuIndicator as ichi\n",
    "    "
   ]
  },
  {
   "cell_type": "code",
   "execution_count": null,
   "metadata": {},
   "outputs": [],
   "source": [
    "TRADING_API_TOKEN=\"\"\n",
    "TRADING_API_ACCOUNT=''\n",
    "\n",
    "parameters={\"count\": 10,#how many registers i want\n",
    "            \"granularity\": \"H4\",# time frame\n",
    "            }\n"
   ]
  },
  {
   "cell_type": "code",
   "execution_count": null,
   "metadata": {},
   "outputs": [],
   "source": [
    "api = API(access_token=TRADING_API_TOKEN,environment='live')\n",
    "data = instruments.InstrumentsCandles('EUR_USD',params= parameters)\n",
    "response = api.request(data)\n",
    "response= str(response).replace(\"'\",\"\\\"\").replace(\"True\",\"true\").replace(\"False\",\"false\").replace(\"}}\",\"}]}\").replace(\": {\",\": [{\")\n",
    "dresponse = json.loads(response)\n",
    "print (response)\n",
    "dataframe = pd.DataFrame.from_dict(dresponse['candles'])\n",
    "print (dataframe)\n"
   ]
  },
  {
   "cell_type": "code",
   "execution_count": null,
   "metadata": {},
   "outputs": [],
   "source": [
    "res ={}\n",
    "count =0\n",
    "direction ={}\n",
    "for a in dresponse['candles']:\n",
    "    #print (a)\n",
    "    for b in a['mid']:\n",
    "        del a['mid']\n",
    "        b['o']=float(b['o'])\n",
    "        b['c']=float (b['c'])\n",
    "        b['l']=float(b['l'])\n",
    "        b['h']=float (b['h'])\n",
    "\n",
    "        res[count]={**a,**b,**direction}\n",
    "        count=count+1\n",
    "\n",
    "\n",
    "data = pd.DataFrame.from_dict(res,orient='index')\n",
    "print(data)"
   ]
  }
 ],
 "metadata": {
  "interpreter": {
   "hash": "30bc5e90f3a82f0267d94b7bf1f9e85115c5fff0fde475bdb9853b312fa487b1"
  },
  "kernelspec": {
   "display_name": "Python 3.10.4 64-bit",
   "language": "python",
   "name": "python3"
  },
  "language_info": {
   "codemirror_mode": {
    "name": "ipython",
    "version": 3
   },
   "file_extension": ".py",
   "mimetype": "text/x-python",
   "name": "python",
   "nbconvert_exporter": "python",
   "pygments_lexer": "ipython3",
   "version": "3.10.4"
  },
  "orig_nbformat": 4
 },
 "nbformat": 4,
 "nbformat_minor": 2
}
