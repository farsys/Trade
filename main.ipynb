{
 "cells": [
  {
   "cell_type": "code",
   "execution_count": null,
   "metadata": {},
   "outputs": [],
   "source": [
    "import matplotlib\n",
    "import matplotlib.pyplot as plt\n",
    "import matplotlib.ticker as mticker\n",
    "import matplotlib.dates as mdates\n",
    "import numpy as np\n",
    "from matplotlib import style\n",
    "style.use(\"ggplot\")\n",
    "\n",
    "\n",
    "\n",
    "\n",
    "def graphRawFX():\n",
    "    date,bid,ask = np.loadtxt('GBPUSD1d.txt', unpack=True,\n",
    "                              delimiter=',',\n",
    "                              converters={0:mdates.DateFormatter('%Y%m%d%H%M%S')})\n",
    "\n",
    "    fig=plt.figure(figsize=(10,7))\n",
    "\n",
    "    ax1 = plt.subplot2grid((40,40), (0,0), rowspan=40, colspan=40)\n",
    "    ax1.plot(date,bid)\n",
    "    ax1.plot(date,ask)\n",
    "\n",
    "    ax1.xaxis.set_major_formatter(mdates.DateFormatter('%Y-%m-%d %H:%M:%S'))\n",
    "\n",
    "    for label in ax1.xaxis.get_ticklabels():\n",
    "            label.set_rotation(45)\n",
    "    plt.subplots_adjust(bottom=.23)\n",
    "    plt.gca().get_yaxis().get_major_formatter().set_useOffset(False)\n",
    "    plt.grid(True)\n",
    "    plt.show()\n",
    "\n",
    "\n",
    "\n",
    "graphRawFX()\n",
    "            "
   ]
  },
  {
   "cell_type": "code",
   "execution_count": null,
   "metadata": {},
   "outputs": [],
   "source": []
  }
 ],
 "metadata": {
  "interpreter": {
   "hash": "b3ba2566441a7c06988d0923437866b63cedc61552a5af99d1f4fb67d367b25f"
  },
  "kernelspec": {
   "display_name": "Python 3 (ipykernel)",
   "language": "python",
   "name": "python3"
  },
  "language_info": {
   "codemirror_mode": {
    "name": "ipython",
    "version": 3
   },
   "file_extension": ".py",
   "mimetype": "text/x-python",
   "name": "python",
   "nbconvert_exporter": "python",
   "pygments_lexer": "ipython3",
   "version": "3.9.12"
  }
 },
 "nbformat": 4,
 "nbformat_minor": 2
}
